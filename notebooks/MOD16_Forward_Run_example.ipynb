{
 "cells": [
  {
   "cell_type": "markdown",
   "id": "5a1b63f7-b3a4-41cc-8f3b-e3ba2e93aa1c",
   "metadata": {},
   "source": [
    "# Example MOD16 Forward Run"
   ]
  },
  {
   "cell_type": "markdown",
   "id": "44e2200c-0553-4da0-a383-c8b3148ff0f3",
   "metadata": {},
   "source": [
    "This notebook demonstrates how to use the MOD16 Python implementation, `mod16`, to estimate evapotranspiration (ET) fluxes at 279 eddy covariance (EC) tower sites. To run this notebook, you'll need the following files:\n",
    "\n",
    "- [MOD16 Collection 6.1 BPLUT](https://github.com/arthur-e/MOD16/blob/master/data/MOD16_BPLUT_C5.1_05deg_MCD43B_Albedo_MERRA_GMAO.txt) (Imported automatically, below)\n",
    "- [VIIRS_MOD16_tower_site_latent_heat_and_drivers_v4.h5](http://files.ntsg.umt.edu/data/VIIRS/VIIRS_MOD16_tower_site_latent_heat_and_drivers_v4.h5)\n",
    "\n",
    "The `*.h5` (HDF5) file above contains the input driver data for 279 EC tower sites."
   ]
  },
  {
   "cell_type": "code",
   "execution_count": null,
   "id": "22060d0c-c6ad-4227-9dea-119ea84bdbc3",
   "metadata": {},
   "outputs": [],
   "source": [
    "import datetime\n",
    "import os\n",
    "import numpy as np\n",
    "import h5py\n",
    "import mod16\n",
    "from mod17.utils import rmsd\n",
    "from mod16 import MOD16\n",
    "from mod16.utils import pft_dominant, restore_bplut\n",
    "from matplotlib import pyplot\n",
    "\n",
    "N_SITES = 279\n",
    "BPLUT = os.path.join(os.path.dirname(mod16.__file__), 'data/MOD16_BPLUT_C5.1_05deg_MCD43B_Albedo_MERRA_GMAO.csv')\n",
    "\n",
    "# CHANGE THE FOLLOWING to match your file system:\n",
    "DRIVERS_HDF5 = '/home/arthur/VIIRS_MOD16_tower_site_latent_heat_and_drivers_v4.h5'"
   ]
  },
  {
   "cell_type": "markdown",
   "id": "557f0f13-279f-4e2f-a31d-7a84f146dfe1",
   "metadata": {},
   "source": [
    "**There are two types of interfaces in the MOD16 Python code.**\n",
    "\n",
    "User-friendly methods of a `MOD16` instance, parameterized for a single land-cover type:\n",
    "\n",
    "- `MOD16.evapotranspiration()`\n",
    "- `MOD16.transpiration()`\n",
    "- `MOD16.evaporation_soil()`\n",
    "- `MOD16.evaporation_canopy()`\n",
    "- And so on.\n",
    "\n",
    "There is also a single, vectorized interface implemented as a static method of the `MOD16` class, which can handle multiple land-cover types:\n",
    "\n",
    "- `MOD16._evapotranspiration()`\n",
    "- `MOD16._et()` (alias for the function above)\n",
    "\n",
    "The user-friendly, instance methods have code blocks that are easy to read and understand, but those methods might run slow for large spatial domains because they incur a lot of Python overhead. The values returned by those functions are in mass-flux units (kg [H2O] m-2 sec-1).\n",
    "\n",
    "The vectorized interface is faster because it incurs less Python overhead; it is useful, for example, when calibrating MOD16, because this may require hundreds or thousands of function evaluations every second. It can also handle multiple land-cover types. The vectorized interface returns values in energy units (W m-2), for comparison to eddy covariance tower measurements."
   ]
  },
  {
   "cell_type": "markdown",
   "id": "8c249258-286d-423d-bf0e-d5ea12643818",
   "metadata": {},
   "source": [
    "## Simple, Non-Vectorized Example"
   ]
  },
  {
   "cell_type": "markdown",
   "id": "cd544e50-7073-4a49-9cb6-264c70a04899",
   "metadata": {},
   "source": [
    "The Biome Properties Lookup Table (BPLUT) defines the model parameters for 11 plant functional types (PFTs), or land-cover types. Consequently, when we read this file in using `restore_bplut()`, we get a Python dictionary where each parameter (key) is mapped to an array (value) of at least 11 values. Because the PFTs have numeric codes (e.g., 1 represents \"Evergreen Needleleaf forest\") starting with the number one, and because Python starts counting at zero, the very first value in each array is NaN. Similarly, the PFT code 11 represents a land-cover type we don't use, so the 11th position of the array is also NaN; however, PFT 12 is used so the 12th position has a valid number."
   ]
  },
  {
   "cell_type": "code",
   "execution_count": null,
   "id": "252e2f7a-065b-4845-87e6-baa96f6ca5ab",
   "metadata": {},
   "outputs": [],
   "source": [
    "params_dict = restore_bplut(BPLUT)\n",
    "\n",
    "# NOTE: This parameter was not a free parameter in MOD16 Collection 6.1; \n",
    "#    it was always set to 250\n",
    "params_dict['beta'] = np.array([250] * 13)\n",
    "params_dict"
   ]
  },
  {
   "cell_type": "markdown",
   "id": "1cd7f98a-5ce4-4fe0-86d3-55290c6b1791",
   "metadata": {},
   "source": [
    "**We can create our parameterized model instance by providing the model with a dictionary of parameters.** When using the `MOD16.evapotranspiration()` interface, we can only simulate one PFT at at time, so we'll have to reduce our dictionary to a simple collection key-value pairs where the value is a single, scalar value. In this case, we're interested just in Cereal Crops:"
   ]
  },
  {
   "cell_type": "code",
   "execution_count": null,
   "id": "24cab1fb-4574-43ff-b5d6-4ab88ef53bc0",
   "metadata": {},
   "outputs": [],
   "source": [
    "# Just the parameters for a Cereal Crop (PFT = 7)\n",
    "cereal_params = dict([(key, value[7]) for key, value in params_dict.items()])\n",
    "cereal_params"
   ]
  },
  {
   "cell_type": "markdown",
   "id": "e1b70d0b-a3e3-487d-8df1-c5294708114b",
   "metadata": {},
   "source": [
    "**In this example, we'll run the model for all 279 sites, even though most of them are not Cereal Crop sites, for simplicity.**"
   ]
  },
  {
   "cell_type": "code",
   "execution_count": null,
   "id": "4bc24976-2d16-430a-87fa-e0bea644fb41",
   "metadata": {},
   "outputs": [],
   "source": [
    "model = MOD16(cereal_params)\n",
    "model"
   ]
  },
  {
   "cell_type": "markdown",
   "id": "66c844e1-ea30-4c94-9deb-61f8684e1bb1",
   "metadata": {},
   "source": [
    "### Loading Driver Datasets"
   ]
  },
  {
   "cell_type": "markdown",
   "id": "2a328ed5-7756-49f6-b2cf-e2922ae37b6b",
   "metadata": {},
   "source": [
    "Our HDF5 file contains the necessary driver data for running MOD16. Specifically, we use the following daily, surface meteorological data from the MERRA-2 re-analysis dataset:\n",
    "\n",
    "- Net downward long-wave radiation integrated during daylight hours (W m-2)\n",
    "- Net downward long-wave radiation integrated during nighttime hours (W m-2)\n",
    "- Down-welling short-wave radiation integrated during daylight hours (W m-2)\n",
    "- Down-welling short-wave radiation integrated during night-time hours (W m-2)\n",
    "- Down-welling short-wave albedo (under \"black-sky\" conditions)\n",
    "- Daytime prevailing air temperature at 10-meter height (deg K)\n",
    "- Nighttime prevailing air temperature at 10-meter height (deg K)\n",
    "- Mean annual air temperature at 10-meter height (deg K)\n",
    "- Minimum daily air temperature at 10-meter height (deg K)\n",
    "\n",
    "MERRA-2 data are provided hourly, so we generated the quantities above by intergrating hourly data during separate day-night periods. We'll also compute the following, using input data from MERRA-2.\n",
    "\n",
    "- Daytime mean vapor pressure deficit (VPD) (Pa)\n",
    "- Nighttime mean VPD (Pa)\n",
    "- Air pressure (Pa)\n",
    "\n",
    "Daily canopy characteristics come from either the MODIS or VIIRS sensor; either the MODIS MOD15 or VIIRS VNP15 products:\n",
    "\n",
    "- Fraction of photosynthetically active radiation (PAR) absorbed by the vegetation canopy\n",
    "- Leaf area index (LAI)"
   ]
  },
  {
   "cell_type": "code",
   "execution_count": null,
   "id": "8f1b9787-2c36-475c-b990-987b09316bec",
   "metadata": {},
   "outputs": [],
   "source": [
    "with h5py.File(DRIVERS_HDF5, 'r') as hdf:\n",
    "    lw_net_day = hdf['MERRA2/LWGNT_daytime'][:]\n",
    "    lw_net_night = hdf['MERRA2/LWGNT_nighttime'][:]\n",
    "    sw_albedo = hdf['MODIS/MCD43GF_black_sky_sw_albedo'][:]\n",
    "    sw_albedo = np.nanmean(sw_albedo, axis = -1)\n",
    "    sw_rad_day = hdf['MERRA2/SWGDN_daytime'][:]\n",
    "    sw_rad_night = hdf['MERRA2/SWGDN_nighttime'][:]\n",
    "    temp_day = hdf['MERRA2/T10M_daytime'][:]\n",
    "    temp_night = hdf['MERRA2/T10M_nighttime'][:]\n",
    "    tmin = hdf['MERRA2/Tmin'][:]\n",
    "    # As long as the time series is balanced w.r.t. years (i.e., same\n",
    "    #   number of records per year), the overall mean is the annual mean\n",
    "    temp_annual = hdf['MERRA2/T10M'][:].mean(axis = 0)"
   ]
  },
  {
   "cell_type": "markdown",
   "id": "cff435f0-7852-423a-8650-997b7c392fc3",
   "metadata": {},
   "source": [
    "We compute the vapor pressure deficit (VPD) using the `MOD16.vpd()` function, as below.\n",
    "\n",
    "To reduce complexity in this example, we take the mean over the 3-by-3 subgrid, at each EC tower site, for the input fPAR and LAI data."
   ]
  },
  {
   "cell_type": "code",
   "execution_count": null,
   "id": "0ef2e78a-a658-438d-9716-8c7e4ac5a936",
   "metadata": {},
   "outputs": [],
   "source": [
    "with h5py.File(DRIVERS_HDF5, 'r') as hdf:\n",
    "    vpd_day = MOD16.vpd(\n",
    "        hdf['MERRA2/QV10M_daytime'][:],\n",
    "        hdf['MERRA2/PS_daytime'][:],\n",
    "        temp_day)\n",
    "    vpd_night = MOD16.vpd(\n",
    "        hdf['MERRA2/QV10M_nighttime'][:],\n",
    "        hdf['MERRA2/PS_nighttime'][:],\n",
    "        temp_night)\n",
    "    pressure = hdf['MERRA2/PS'][:]\n",
    "    # Read in fPAR, LAI, and convert from (%) to [0,1]\n",
    "    fpar = np.nanmean(\n",
    "        hdf['MODIS/MOD15A2HGF_fPAR_interp'][:], axis = -1)\n",
    "    lai = np.nanmean(\n",
    "        hdf['MODIS/MOD15A2HGF_LAI_interp'][:], axis = -1)\n",
    "    # Convert fPAR from (%) to [0,1] and re-scale LAI; reshape fPAR and LAI\n",
    "    fpar /= 100\n",
    "    lai /= 10"
   ]
  },
  {
   "cell_type": "markdown",
   "id": "9b3dbd08-a4ec-40ab-912c-9f3003fee917",
   "metadata": {},
   "source": [
    "Finally, we'll put all these driver datasets (NumPy arrays) into a list, for convenience."
   ]
  },
  {
   "cell_type": "code",
   "execution_count": null,
   "id": "1e2d84cb-1186-4886-8687-85978bb24710",
   "metadata": {},
   "outputs": [],
   "source": [
    "# Compile driver datasets\n",
    "drivers = [\n",
    "    lw_net_day, lw_net_night, sw_rad_day, sw_rad_night, sw_albedo,\n",
    "    temp_day, temp_night, temp_annual, tmin, vpd_day, vpd_night,\n",
    "    pressure, fpar, lai\n",
    "]"
   ]
  },
  {
   "cell_type": "markdown",
   "id": "1cf2c1ec-129b-4bab-a0a4-3c064b8883ed",
   "metadata": {},
   "source": [
    "**One advantage of using the non-vectorized interfaces is that we get more granular estimates;** specifically, we can obtain separate daytime and nighttime ET estimates:"
   ]
  },
  {
   "cell_type": "code",
   "execution_count": null,
   "id": "75972023-a0bb-4d49-8355-8d45bef2d0d8",
   "metadata": {},
   "outputs": [],
   "source": [
    "et_day, et_night = model.evapotranspiration(*drivers)\n",
    "et_day.shape"
   ]
  },
  {
   "cell_type": "markdown",
   "id": "5bdd4815-cbe4-42df-99d7-4fdc872abc2e",
   "metadata": {},
   "source": [
    "Again, not all of these 279 sites are classified as having a dominant land-cover type of Cereal Crops, but the first site is. The output units of the `MOD16.evapotranspiration()` are in (water) mass flux units:"
   ]
  },
  {
   "cell_type": "code",
   "execution_count": null,
   "id": "d37b32f3-4a6f-4bf6-ae51-06fb546edb33",
   "metadata": {},
   "outputs": [],
   "source": [
    "with h5py.File(DRIVERS_HDF5, 'r') as hdf:\n",
    "    time = [datetime.date(y, m, d) for y, m, d in hdf['time'][:].tolist()]\n",
    "\n",
    "pyplot.figure(figsize = (12, 6))\n",
    "pyplot.plot(time, et_day[:,0], 'k-')\n",
    "pyplot.ylabel('Daytime Latent Heat Flux (kg [H2O] m-2 sec-1)')\n",
    "pyplot.show()"
   ]
  },
  {
   "cell_type": "markdown",
   "id": "23399c9a-2ee4-4021-ad7d-77aa1b2ffd78",
   "metadata": {},
   "source": [
    "---\n",
    "\n",
    "## Vectorized Example"
   ]
  },
  {
   "cell_type": "markdown",
   "id": "25f9dc6e-e329-4f94-85a6-87a3ce06676d",
   "metadata": {},
   "source": [
    "In the vectorized code, we can run MOD16 for any arbitrary input domain; it might correspond to a remote-sensing raster image (2D spatial domain) or a series of non-contiguous sites (strung together as a 1D spatial domain)."
   ]
  },
  {
   "cell_type": "markdown",
   "id": "4e569b20-21c0-4775-9df1-f464ff086ceb",
   "metadata": {},
   "source": [
    "### Loading Parameters, Land-Cover Map"
   ]
  },
  {
   "cell_type": "markdown",
   "id": "cbb2d514-7e61-4644-ad9c-21cb77f34134",
   "metadata": {},
   "source": [
    "We start with the `params_dict` we loaded in, above.\n",
    "\n",
    "We also need to load the land-cover (PFT) map for our 279 sites. That is, we need an array that indicates the numeric PFT code for each of the 279 sites. Because we simulate a 3-by-3 pixel grid (1500-m wide, given a 500-m MODIS pixel) at each site, and the land-cover may be heterogeneous among those pixels, we need to determine the majority land-cover type. The `pft_dominant()` function will do this, while also including a few rules for handling specific sites and land-cover types."
   ]
  },
  {
   "cell_type": "code",
   "execution_count": null,
   "id": "f77deefa-b748-4bb1-98f3-ee8d313fd87e",
   "metadata": {},
   "outputs": [],
   "source": [
    "with h5py.File(DRIVERS_HDF5, 'r') as hdf:\n",
    "    time = [datetime.date(y, m, d) for y, m, d in hdf['time'][:].tolist()]\n",
    "    sites = hdf['FLUXNET/site_id'][:].tolist() # Site names\n",
    "    # Decode UTF-8 strings\n",
    "    if hasattr(sites[0], 'decode'):\n",
    "        sites = [s.decode('utf-8') for s in sites]\n",
    "    # Get dominant PFT\n",
    "    pft_map = pft_dominant(hdf['state/PFT'][:], site_list = sites)\\\n",
    "        .astype(np.int16)\n",
    "\n",
    "pft_map.shape"
   ]
  },
  {
   "cell_type": "markdown",
   "id": "46239b8f-698a-415c-bb28-48873ba70b31",
   "metadata": {},
   "source": [
    "Finally, because the MOD16 Python implementation is fully vectorized, we need to create arrays of model parameters that are conformable with the driver datasets. That is, each model parameter should be represented by an array of 279 elements (for 279 sites). This avoids runtime overhead associated with having to look-up a pixel's parameter value."
   ]
  },
  {
   "cell_type": "code",
   "execution_count": null,
   "id": "d36780ea-286b-45e2-bdf2-11ac570cf360",
   "metadata": {},
   "outputs": [],
   "source": [
    "# Build parameter arrays for vectorized forward run\n",
    "params = []\n",
    "for key in MOD16.required_parameters:\n",
    "    params.append(params_dict[key][pft_map].reshape((1,N_SITES)))\n",
    "\n",
    "params[0].shape"
   ]
  },
  {
   "cell_type": "markdown",
   "id": "7a14007d-91fd-4c18-ab21-947be066b3cb",
   "metadata": {},
   "source": [
    "### Running Vectorized MOD16"
   ]
  },
  {
   "cell_type": "markdown",
   "id": "f4fc1118-9224-4a3a-b874-da3d7563f220",
   "metadata": {},
   "source": [
    "At this point, because of the preparations we made above, running MOD16 using the fast, vectorized interface is simple:"
   ]
  },
  {
   "cell_type": "code",
   "execution_count": null,
   "id": "cfb188b4-fa6a-4fa7-85a3-a64610e285c2",
   "metadata": {},
   "outputs": [],
   "source": [
    "prediction = MOD16._et(params, *drivers)\n",
    "prediction.shape"
   ]
  },
  {
   "cell_type": "markdown",
   "id": "538ac20b-af00-4df5-a825-254c49c97afc",
   "metadata": {},
   "source": [
    "**The vectorized `MOD16._et()` function returns ET/ latent heat fluxes in units of Watts per meter squared (W m-2).**\n",
    "\n",
    "We get 7305 daily time steps for 279 tower sites. For instance, we can make a quick time-series plot for a single site as below:"
   ]
  },
  {
   "cell_type": "code",
   "execution_count": null,
   "id": "18c39c34-5258-41d8-990c-bf7e2e224ef3",
   "metadata": {},
   "outputs": [],
   "source": [
    "pyplot.figure(figsize = (12, 6))\n",
    "pyplot.plot(time, prediction[:,0], 'k-')\n",
    "pyplot.ylabel('Latent Heat Flux (W m-2)')\n",
    "pyplot.show()"
   ]
  }
 ],
 "metadata": {
  "kernelspec": {
   "display_name": "Python 3 (ipykernel)",
   "language": "python",
   "name": "python3"
  },
  "language_info": {
   "codemirror_mode": {
    "name": "ipython",
    "version": 3
   },
   "file_extension": ".py",
   "mimetype": "text/x-python",
   "name": "python",
   "nbconvert_exporter": "python",
   "pygments_lexer": "ipython3",
   "version": "3.10.6"
  }
 },
 "nbformat": 4,
 "nbformat_minor": 5
}
